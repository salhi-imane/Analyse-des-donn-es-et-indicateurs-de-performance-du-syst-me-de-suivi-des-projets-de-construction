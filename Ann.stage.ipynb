{
 "cells": [
  {
   "cell_type": "code",
   "execution_count": 4,
   "id": "fbae9e45-a8ef-47b7-92a4-fc706f1d21e2",
   "metadata": {},
   "outputs": [],
   "source": [
    "import pandas as pd\n",
    "import numpy as np\n",
    "import seaborn as sns\n",
    "import matplotlib.pyplot as plt\n",
    "from sklearn.preprocessing import LabelEncoder, OneHotEncoder, StandardScaler\n",
    "from scipy.stats import zscore\n",
    "from datetime import timedelta\n",
    "import random"
   ]
  },
  {
   "cell_type": "code",
   "execution_count": 5,
   "id": "aaf33b81-5022-4912-bc56-6902d7f30a14",
   "metadata": {},
   "outputs": [
    {
     "name": "stdout",
     "output_type": "stream",
     "text": [
      "Requirement already satisfied: openpyxl in c:\\users\\dell\\appdata\\local\\programs\\python\\python312\\lib\\site-packages (3.1.5)\n",
      "Requirement already satisfied: et-xmlfile in c:\\users\\dell\\appdata\\local\\programs\\python\\python312\\lib\\site-packages (from openpyxl) (2.0.0)\n",
      "Note: you may need to restart the kernel to use updated packages.\n"
     ]
    },
    {
     "name": "stderr",
     "output_type": "stream",
     "text": [
      "\n",
      "[notice] A new release of pip is available: 24.1 -> 25.1.1\n",
      "[notice] To update, run: python.exe -m pip install --upgrade pip\n"
     ]
    }
   ],
   "source": [
    "pip install openpyxl"
   ]
  },
  {
   "cell_type": "code",
   "execution_count": 6,
   "id": "9d2bdc06-d89b-4202-a127-046e795e5bb4",
   "metadata": {},
   "outputs": [],
   "source": [
    "# Charger les données\n",
    "df = pd.read_excel(\"DATA_FINALE_AVEC_COLONNES.xlsx\")"
   ]
  },
  {
   "cell_type": "code",
   "execution_count": 7,
   "id": "c3598ed7-29a4-4c15-bdbb-374be25bab9f",
   "metadata": {},
   "outputs": [
    {
     "name": "stdout",
     "output_type": "stream",
     "text": [
      "--- Informations sur les données ---\n",
      "             codedos     codeavisPP  codecatprojPP  codecontexte  \\\n",
      "count  100000.000000  100000.000000  100000.000000  100000.00000   \n",
      "mean   150000.500000       4.498890       5.501160       2.99992   \n",
      "min    100001.000000       3.000000       1.000000       1.00000   \n",
      "25%    125000.750000       3.000000       3.000000       2.00000   \n",
      "50%    150000.500000       4.000000       5.000000       3.00000   \n",
      "75%    175000.250000       5.000000       8.000000       4.00000   \n",
      "max    200000.000000       6.000000      10.000000       5.00000   \n",
      "std     28867.657797       1.118093       2.865903       1.41444   \n",
      "\n",
      "              codemo     supcv          suptr          supbt        invest  \\\n",
      "count  100000.000000  100000.0  100000.000000  100000.000000  1.000000e+05   \n",
      "mean        3.005630       0.0     524.867030     526.382780  1.024301e+06   \n",
      "min         1.000000       0.0      50.000000      50.000000  5.001500e+04   \n",
      "25%         2.000000       0.0     288.000000     290.000000  5.373955e+05   \n",
      "50%         3.000000       0.0     525.000000     527.000000  1.024254e+06   \n",
      "75%         4.000000       0.0     763.000000     765.000000  1.509356e+06   \n",
      "max         5.000000       0.0    1000.000000    1000.000000  1.999985e+06   \n",
      "std         1.414354       0.0     274.320464     274.391928  5.622308e+05   \n",
      "\n",
      "               nblog        numcom        numexam        numfav  \\\n",
      "count  100000.000000  100000.00000  100000.000000  100000.00000   \n",
      "mean        5.506930      25.52259    5494.961950       2.50007   \n",
      "min         1.000000       1.00000    1000.000000       0.00000   \n",
      "25%         3.000000      13.00000    3260.000000       1.00000   \n",
      "50%         6.000000      26.00000    5484.000000       3.00000   \n",
      "75%         8.000000      38.00000    7748.000000       4.00000   \n",
      "max        10.000000      50.00000    9999.000000       5.00000   \n",
      "std         2.871901      14.43644    2594.970693       1.70371   \n",
      "\n",
      "                          date_depot                    date_remise  \\\n",
      "count                          94975                          94975   \n",
      "mean   2023-07-02 12:28:47.090286592  2023-08-06 14:10:08.522242560   \n",
      "min              2022-01-01 00:00:00            2022-01-11 00:00:00   \n",
      "25%              2022-09-30 00:00:00            2022-11-03 00:00:00   \n",
      "50%              2023-07-04 00:00:00            2023-08-08 00:00:00   \n",
      "75%              2024-04-04 00:00:00            2024-05-08 00:00:00   \n",
      "max              2024-12-31 00:00:00            2025-03-01 00:00:00   \n",
      "std                              NaN                            NaN   \n",
      "\n",
      "       etat_dossier  \n",
      "count  94930.000000  \n",
      "mean       2.499558  \n",
      "min        1.000000  \n",
      "25%        1.000000  \n",
      "50%        3.000000  \n",
      "75%        4.000000  \n",
      "max        4.000000  \n",
      "std        1.120083  \n"
     ]
    }
   ],
   "source": [
    "print(\"--- Informations sur les données ---\")\n",
    "print(df.describe())"
   ]
  },
  {
   "cell_type": "code",
   "execution_count": 8,
   "id": "2b3b6a4e-a4e8-4fd2-ac5e-413c4c8f5214",
   "metadata": {},
   "outputs": [
    {
     "name": "stdout",
     "output_type": "stream",
     "text": [
      "<class 'pandas.core.frame.DataFrame'>\n",
      "RangeIndex: 100000 entries, 0 to 99999\n",
      "Data columns (total 32 columns):\n",
      " #   Column          Non-Null Count   Dtype         \n",
      "---  ------          --------------   -----         \n",
      " 0   codeexam        100000 non-null  object        \n",
      " 1   codedos         100000 non-null  int64         \n",
      " 2   codeavisPP      100000 non-null  int64         \n",
      " 3   objet           100000 non-null  object        \n",
      " 4   codecatprojPP   100000 non-null  int64         \n",
      " 5   codecontexte    100000 non-null  int64         \n",
      " 6   codemo          100000 non-null  int64         \n",
      " 7   sit             100000 non-null  object        \n",
      " 8   supcv           100000 non-null  int64         \n",
      " 9   suptr           100000 non-null  int64         \n",
      " 10  supbt           100000 non-null  int64         \n",
      " 11  invest          100000 non-null  int64         \n",
      " 12  nblog           100000 non-null  int64         \n",
      " 13  obs             100000 non-null  object        \n",
      " 14  numcom          100000 non-null  int64         \n",
      " 15  numexam         100000 non-null  int64         \n",
      " 16  numfav          100000 non-null  int64         \n",
      " 17  infosplus       100000 non-null  object        \n",
      " 18  motifdefav      100000 non-null  object        \n",
      " 19   RF             100000 non-null  object        \n",
      " 20  pétitionnaire   94845 non-null   object        \n",
      " 21  date_depot      94975 non-null   datetime64[ns]\n",
      " 22  province        95058 non-null   object        \n",
      " 23  date_remise     94975 non-null   datetime64[ns]\n",
      " 24  etat_dossier    94930 non-null   float64       \n",
      " 25  type_projet     94925 non-null   object        \n",
      " 26  catégorie_1     94988 non-null   object        \n",
      " 27  catégorie_2     94839 non-null   object        \n",
      " 28  milieu          95198 non-null   object        \n",
      " 29  porteur_projet  95014 non-null   object        \n",
      " 30  nature_projet   95047 non-null   object        \n",
      " 31  nombre_emplois  94932 non-null   object        \n",
      "dtypes: datetime64[ns](2), float64(1), int64(13), object(16)\n",
      "memory usage: 24.4+ MB\n",
      "None\n"
     ]
    }
   ],
   "source": [
    "print(df.info())"
   ]
  },
  {
   "cell_type": "code",
   "execution_count": 9,
   "id": "956fc64a-dca2-407f-8013-eabd8d4e695e",
   "metadata": {},
   "outputs": [
    {
     "name": "stdout",
     "output_type": "stream",
     "text": [
      "Nombre de doublons : 0\n"
     ]
    }
   ],
   "source": [
    "# Vérifier les doublons dans toutes les colonnes\n",
    "doublons = df[df.duplicated()]\n",
    "\n",
    "# Afficher le nombre de doublons\n",
    "print(f\"Nombre de doublons : {doublons.shape[0]}\")"
   ]
  },
  {
   "cell_type": "code",
   "execution_count": 10,
   "id": "cec84ec7-766a-420d-920f-35a82465039a",
   "metadata": {},
   "outputs": [
    {
     "name": "stdout",
     "output_type": "stream",
     "text": [
      "codeexam             0\n",
      "codedos              0\n",
      "codeavisPP           0\n",
      "objet                0\n",
      "codecatprojPP        0\n",
      "codecontexte         0\n",
      "codemo               0\n",
      "sit                  0\n",
      "supcv                0\n",
      "suptr                0\n",
      "supbt                0\n",
      "invest               0\n",
      "nblog                0\n",
      "obs                  0\n",
      "numcom               0\n",
      "numexam              0\n",
      "numfav               0\n",
      "infosplus            0\n",
      "motifdefav           0\n",
      " RF                  0\n",
      "pétitionnaire     5155\n",
      "date_depot        5025\n",
      "province          4942\n",
      "date_remise       5025\n",
      "etat_dossier      5070\n",
      "type_projet       5075\n",
      "catégorie_1       5012\n",
      "catégorie_2       5161\n",
      "milieu            4802\n",
      "porteur_projet    4986\n",
      "nature_projet     4953\n",
      "nombre_emplois    5068\n",
      "dtype: int64\n"
     ]
    }
   ],
   "source": [
    "print(df.isnull().sum())"
   ]
  },
  {
   "cell_type": "code",
   "execution_count": 11,
   "id": "ca6e6eeb-623f-4b59-9d5f-23656b677bc2",
   "metadata": {},
   "outputs": [
    {
     "name": "stderr",
     "output_type": "stream",
     "text": [
      "C:\\Users\\DELL\\AppData\\Local\\Temp\\ipykernel_5368\\1785486339.py:2: FutureWarning: A value is trying to be set on a copy of a DataFrame or Series through chained assignment using an inplace method.\n",
      "The behavior will change in pandas 3.0. This inplace method will never work because the intermediate object on which we are setting values always behaves as a copy.\n",
      "\n",
      "For example, when doing 'df[col].method(value, inplace=True)', try using 'df.method({col: value}, inplace=True)' or df[col] = df[col].method(value) instead, to perform the operation inplace on the original object.\n",
      "\n",
      "\n",
      "  df['date_depot'].fillna(method='ffill', inplace=True)\n",
      "C:\\Users\\DELL\\AppData\\Local\\Temp\\ipykernel_5368\\1785486339.py:2: FutureWarning: Series.fillna with 'method' is deprecated and will raise in a future version. Use obj.ffill() or obj.bfill() instead.\n",
      "  df['date_depot'].fillna(method='ffill', inplace=True)\n"
     ]
    },
    {
     "name": "stdout",
     "output_type": "stream",
     "text": [
      "📊 Valeurs manquantes :\n",
      " date_depot     0\n",
      "date_remise    0\n",
      "dtype: int64\n"
     ]
    }
   ],
   "source": [
    "# Étape 1 : remplir les dates manquantes dans 'date_depot' par la valeur précédente\n",
    "df['date_depot'].fillna(method='ffill', inplace=True)\n",
    "\n",
    "# Étape 2 : remplir les dates manquantes dans 'date_remise' logiquement\n",
    "def generate_date_remise(depot_date):\n",
    "    if pd.isna(depot_date):\n",
    "        return None\n",
    "    return depot_date + timedelta(days=random.randint(10, 60))\n",
    "\n",
    "# Appliquer la logique aux valeurs manquantes\n",
    "df['date_remise'] = df.apply(\n",
    "    lambda row: generate_date_remise(row['date_depot']) if pd.isna(row['date_remise']) else row['date_remise'],\n",
    "    axis=1\n",
    ")\n",
    "# Vérifier les valeurs manquantes\n",
    "missing_dates = df[['date_depot', 'date_remise']].isnull().sum()\n",
    "print(\"📊 Valeurs manquantes :\\n\", missing_dates)"
   ]
  },
  {
   "cell_type": "code",
   "execution_count": 12,
   "id": "de9f8a45-f4f4-4256-9998-11730a0a19fe",
   "metadata": {},
   "outputs": [
    {
     "name": "stderr",
     "output_type": "stream",
     "text": [
      "C:\\Users\\DELL\\AppData\\Local\\Temp\\ipykernel_5368\\206218174.py:5: FutureWarning: A value is trying to be set on a copy of a DataFrame or Series through chained assignment using an inplace method.\n",
      "The behavior will change in pandas 3.0. This inplace method will never work because the intermediate object on which we are setting values always behaves as a copy.\n",
      "\n",
      "For example, when doing 'df[col].method(value, inplace=True)', try using 'df.method({col: value}, inplace=True)' or df[col] = df[col].method(value) instead, to perform the operation inplace on the original object.\n",
      "\n",
      "\n",
      "  df[col].fillna(mode_value, inplace=True)\n"
     ]
    },
    {
     "name": "stdout",
     "output_type": "stream",
     "text": [
      "📊 Valeurs manquantes :\n",
      " pétitionnaire     0\n",
      "province          0\n",
      "type_projet       0\n",
      "catégorie_1       0\n",
      "catégorie_2       0\n",
      "milieu            0\n",
      "porteur_projet    0\n",
      "nature_projet     0\n",
      "dtype: int64\n"
     ]
    }
   ],
   "source": [
    "#Pour strings remplir avec la valeur la plus fréquente (mode) \n",
    "for col in ['pétitionnaire', 'province', 'type_projet', 'catégorie_1', 'catégorie_2',\n",
    "            'milieu', 'porteur_projet', 'nature_projet']:\n",
    "    mode_value = df[col].mode()[0]\n",
    "    df[col].fillna(mode_value, inplace=True)\n",
    "# Vérifier les valeurs manquantes\n",
    "missing_dates = df[['pétitionnaire', 'province', 'type_projet', 'catégorie_1', 'catégorie_2','milieu', 'porteur_projet', 'nature_projet']].isnull().sum()\n",
    "print(\"📊 Valeurs manquantes :\\n\", missing_dates)"
   ]
  },
  {
   "cell_type": "code",
   "execution_count": 13,
   "id": "9e25a600-563d-492a-92d6-bad692d4114c",
   "metadata": {},
   "outputs": [
    {
     "name": "stdout",
     "output_type": "stream",
     "text": [
      "📊 Valeurs manquantes :\n",
      " etat_dossier      0\n",
      "nombre_emplois    0\n",
      "dtype: int64\n"
     ]
    }
   ],
   "source": [
    "# Conversion en numérique pour éviter les erreurs de type\n",
    "df['nombre_emplois'] = pd.to_numeric(df['nombre_emplois'], errors='coerce')\n",
    "\n",
    "# Remplir les valeurs manquantes\n",
    "df['etat_dossier'] = df['etat_dossier'].fillna(df['etat_dossier'].mode()[0])  # si c'est une catégorie\n",
    "df['nombre_emplois'] = df['nombre_emplois'].fillna(df['nombre_emplois'].mean())\n",
    "\n",
    "# Vérifier les valeurs manquantes\n",
    "missing_dates = df[['etat_dossier', 'nombre_emplois']].isnull().sum()\n",
    "print(\"📊 Valeurs manquantes :\\n\", missing_dates)\n"
   ]
  },
  {
   "cell_type": "code",
   "execution_count": 14,
   "id": "0b967ef9-9a94-4994-8e6d-5206acc4ee87",
   "metadata": {},
   "outputs": [
    {
     "name": "stdout",
     "output_type": "stream",
     "text": [
      "codeexam          0\n",
      "codedos           0\n",
      "codeavisPP        0\n",
      "objet             0\n",
      "codecatprojPP     0\n",
      "codecontexte      0\n",
      "codemo            0\n",
      "sit               0\n",
      "supcv             0\n",
      "suptr             0\n",
      "supbt             0\n",
      "invest            0\n",
      "nblog             0\n",
      "obs               0\n",
      "numcom            0\n",
      "numexam           0\n",
      "numfav            0\n",
      "infosplus         0\n",
      "motifdefav        0\n",
      " RF               0\n",
      "pétitionnaire     0\n",
      "date_depot        0\n",
      "province          0\n",
      "date_remise       0\n",
      "etat_dossier      0\n",
      "type_projet       0\n",
      "catégorie_1       0\n",
      "catégorie_2       0\n",
      "milieu            0\n",
      "porteur_projet    0\n",
      "nature_projet     0\n",
      "nombre_emplois    0\n",
      "dtype: int64\n"
     ]
    }
   ],
   "source": [
    "print(df.isnull().sum())"
   ]
  },
  {
   "cell_type": "code",
   "execution_count": 15,
   "id": "b65b60eb-081c-4cc3-ab98-bec40de67983",
   "metadata": {},
   "outputs": [
    {
     "name": "stdout",
     "output_type": "stream",
     "text": [
      "Index(['codeexam', 'codedos', 'codeavisPP', 'objet', 'codecatprojPP',\n",
      "       'codecontexte', 'codemo', 'sit', 'supcv', 'suptr', 'supbt', 'invest',\n",
      "       'nblog', 'obs', 'numcom', 'numexam', 'numfav', 'infosplus',\n",
      "       'motifdefav', ' RF', 'pétitionnaire', 'date_depot', 'province',\n",
      "       'date_remise', 'etat_dossier', 'type_projet', 'catégorie_1',\n",
      "       'catégorie_2', 'milieu', 'porteur_projet', 'nature_projet',\n",
      "       'nombre_emplois'],\n",
      "      dtype='object')\n"
     ]
    }
   ],
   "source": [
    "print(df.columns)"
   ]
  },
  {
   "cell_type": "code",
   "execution_count": 16,
   "id": "a233df67-0974-4877-a840-de328fe8cd19",
   "metadata": {},
   "outputs": [],
   "source": [
    "# Supprimer la colonne 'codeexam' du DataFrame\n",
    "df.drop(columns=['codeexam'], inplace=True)"
   ]
  },
  {
   "cell_type": "code",
   "execution_count": 17,
   "id": "b698d471-1761-41b7-8ed6-1cbc6b80f016",
   "metadata": {},
   "outputs": [
    {
     "ename": "KeyError",
     "evalue": "'codeexam'",
     "output_type": "error",
     "traceback": [
      "\u001b[1;31m---------------------------------------------------------------------------\u001b[0m",
      "\u001b[1;31mKeyError\u001b[0m                                  Traceback (most recent call last)",
      "File \u001b[1;32m~\\AppData\\Local\\Programs\\Python\\Python312\\Lib\\site-packages\\pandas\\core\\indexes\\base.py:3805\u001b[0m, in \u001b[0;36mIndex.get_loc\u001b[1;34m(self, key)\u001b[0m\n\u001b[0;32m   3804\u001b[0m \u001b[38;5;28;01mtry\u001b[39;00m:\n\u001b[1;32m-> 3805\u001b[0m     \u001b[38;5;28;01mreturn\u001b[39;00m \u001b[38;5;28;43mself\u001b[39;49m\u001b[38;5;241;43m.\u001b[39;49m\u001b[43m_engine\u001b[49m\u001b[38;5;241;43m.\u001b[39;49m\u001b[43mget_loc\u001b[49m\u001b[43m(\u001b[49m\u001b[43mcasted_key\u001b[49m\u001b[43m)\u001b[49m\n\u001b[0;32m   3806\u001b[0m \u001b[38;5;28;01mexcept\u001b[39;00m \u001b[38;5;167;01mKeyError\u001b[39;00m \u001b[38;5;28;01mas\u001b[39;00m err:\n",
      "File \u001b[1;32mindex.pyx:167\u001b[0m, in \u001b[0;36mpandas._libs.index.IndexEngine.get_loc\u001b[1;34m()\u001b[0m\n",
      "File \u001b[1;32mindex.pyx:196\u001b[0m, in \u001b[0;36mpandas._libs.index.IndexEngine.get_loc\u001b[1;34m()\u001b[0m\n",
      "File \u001b[1;32mpandas\\\\_libs\\\\hashtable_class_helper.pxi:7081\u001b[0m, in \u001b[0;36mpandas._libs.hashtable.PyObjectHashTable.get_item\u001b[1;34m()\u001b[0m\n",
      "File \u001b[1;32mpandas\\\\_libs\\\\hashtable_class_helper.pxi:7089\u001b[0m, in \u001b[0;36mpandas._libs.hashtable.PyObjectHashTable.get_item\u001b[1;34m()\u001b[0m\n",
      "\u001b[1;31mKeyError\u001b[0m: 'codeexam'",
      "\nThe above exception was the direct cause of the following exception:\n",
      "\u001b[1;31mKeyError\u001b[0m                                  Traceback (most recent call last)",
      "Cell \u001b[1;32mIn[17], line 11\u001b[0m\n\u001b[0;32m      9\u001b[0m \u001b[38;5;28;01mfor\u001b[39;00m i, col \u001b[38;5;129;01min\u001b[39;00m \u001b[38;5;28menumerate\u001b[39m(numerical_featuresb, \u001b[38;5;241m1\u001b[39m):\n\u001b[0;32m     10\u001b[0m     plt\u001b[38;5;241m.\u001b[39msubplot(\u001b[38;5;241m4\u001b[39m, \u001b[38;5;241m4\u001b[39m, i)\n\u001b[1;32m---> 11\u001b[0m     sns\u001b[38;5;241m.\u001b[39mboxplot(y\u001b[38;5;241m=\u001b[39m\u001b[43mdf\u001b[49m\u001b[43m[\u001b[49m\u001b[43mcol\u001b[49m\u001b[43m]\u001b[49m, color\u001b[38;5;241m=\u001b[39m\u001b[38;5;124m'\u001b[39m\u001b[38;5;124mpink\u001b[39m\u001b[38;5;124m'\u001b[39m)\n\u001b[0;32m     12\u001b[0m     plt\u001b[38;5;241m.\u001b[39mtitle(\u001b[38;5;124mf\u001b[39m\u001b[38;5;124m'\u001b[39m\u001b[38;5;124mBoxplot de \u001b[39m\u001b[38;5;132;01m{\u001b[39;00mcol\u001b[38;5;132;01m}\u001b[39;00m\u001b[38;5;124m'\u001b[39m)\n\u001b[0;32m     13\u001b[0m plt\u001b[38;5;241m.\u001b[39mtight_layout()\n",
      "File \u001b[1;32m~\\AppData\\Local\\Programs\\Python\\Python312\\Lib\\site-packages\\pandas\\core\\frame.py:4102\u001b[0m, in \u001b[0;36mDataFrame.__getitem__\u001b[1;34m(self, key)\u001b[0m\n\u001b[0;32m   4100\u001b[0m \u001b[38;5;28;01mif\u001b[39;00m \u001b[38;5;28mself\u001b[39m\u001b[38;5;241m.\u001b[39mcolumns\u001b[38;5;241m.\u001b[39mnlevels \u001b[38;5;241m>\u001b[39m \u001b[38;5;241m1\u001b[39m:\n\u001b[0;32m   4101\u001b[0m     \u001b[38;5;28;01mreturn\u001b[39;00m \u001b[38;5;28mself\u001b[39m\u001b[38;5;241m.\u001b[39m_getitem_multilevel(key)\n\u001b[1;32m-> 4102\u001b[0m indexer \u001b[38;5;241m=\u001b[39m \u001b[38;5;28;43mself\u001b[39;49m\u001b[38;5;241;43m.\u001b[39;49m\u001b[43mcolumns\u001b[49m\u001b[38;5;241;43m.\u001b[39;49m\u001b[43mget_loc\u001b[49m\u001b[43m(\u001b[49m\u001b[43mkey\u001b[49m\u001b[43m)\u001b[49m\n\u001b[0;32m   4103\u001b[0m \u001b[38;5;28;01mif\u001b[39;00m is_integer(indexer):\n\u001b[0;32m   4104\u001b[0m     indexer \u001b[38;5;241m=\u001b[39m [indexer]\n",
      "File \u001b[1;32m~\\AppData\\Local\\Programs\\Python\\Python312\\Lib\\site-packages\\pandas\\core\\indexes\\base.py:3812\u001b[0m, in \u001b[0;36mIndex.get_loc\u001b[1;34m(self, key)\u001b[0m\n\u001b[0;32m   3807\u001b[0m     \u001b[38;5;28;01mif\u001b[39;00m \u001b[38;5;28misinstance\u001b[39m(casted_key, \u001b[38;5;28mslice\u001b[39m) \u001b[38;5;129;01mor\u001b[39;00m (\n\u001b[0;32m   3808\u001b[0m         \u001b[38;5;28misinstance\u001b[39m(casted_key, abc\u001b[38;5;241m.\u001b[39mIterable)\n\u001b[0;32m   3809\u001b[0m         \u001b[38;5;129;01mand\u001b[39;00m \u001b[38;5;28many\u001b[39m(\u001b[38;5;28misinstance\u001b[39m(x, \u001b[38;5;28mslice\u001b[39m) \u001b[38;5;28;01mfor\u001b[39;00m x \u001b[38;5;129;01min\u001b[39;00m casted_key)\n\u001b[0;32m   3810\u001b[0m     ):\n\u001b[0;32m   3811\u001b[0m         \u001b[38;5;28;01mraise\u001b[39;00m InvalidIndexError(key)\n\u001b[1;32m-> 3812\u001b[0m     \u001b[38;5;28;01mraise\u001b[39;00m \u001b[38;5;167;01mKeyError\u001b[39;00m(key) \u001b[38;5;28;01mfrom\u001b[39;00m \u001b[38;5;21;01merr\u001b[39;00m\n\u001b[0;32m   3813\u001b[0m \u001b[38;5;28;01mexcept\u001b[39;00m \u001b[38;5;167;01mTypeError\u001b[39;00m:\n\u001b[0;32m   3814\u001b[0m     \u001b[38;5;66;03m# If we have a listlike key, _check_indexing_error will raise\u001b[39;00m\n\u001b[0;32m   3815\u001b[0m     \u001b[38;5;66;03m#  InvalidIndexError. Otherwise we fall through and re-raise\u001b[39;00m\n\u001b[0;32m   3816\u001b[0m     \u001b[38;5;66;03m#  the TypeError.\u001b[39;00m\n\u001b[0;32m   3817\u001b[0m     \u001b[38;5;28mself\u001b[39m\u001b[38;5;241m.\u001b[39m_check_indexing_error(key)\n",
      "\u001b[1;31mKeyError\u001b[0m: 'codeexam'"
     ]
    },
    {
     "data": {
      "image/png": "[encoded data removed]",
      "text/plain": [
       "<Figure size 1500x1000 with 1 Axes>"
      ]
     },
     "metadata": {},
     "output_type": "display_data"
    }
   ],
   "source": [
    "# Boxplots pour les variables numériques\n",
    "numerical_featuresb = [ 'codeexam', 'codedos', 'codeavisPP', 'objet', 'codecatprojPP',\n",
    "       'codecontexte', 'codemo', 'sit', 'suptr', 'supbt', 'invest', 'nblog',\n",
    "       'obs', 'numcom', 'numexam', 'numfav', 'infosplus', 'motifdefav', ' RF',\n",
    "       'pétitionnaire', 'date_depot', 'province', 'date_remise',\n",
    "       'etat_dossier', 'type_projet', 'catégorie_1', 'catégorie_2', 'milieu',\n",
    "       'porteur_projet', 'nature_projet', 'nombre_emplois']\n",
    "plt.figure(figsize=(15, 10))\n",
    "for i, col in enumerate(numerical_featuresb, 1):\n",
    "    plt.subplot(4, 4, i)\n",
    "    sns.boxplot(y=df[col], color='pink')\n",
    "    plt.title(f'Boxplot de {col}')\n",
    "plt.tight_layout()\n",
    "plt.show()"
   ]
  },
  {
   "cell_type": "code",
   "execution_count": null,
   "id": "1966b17f-62e2-4285-b388-4e627a41fd23",
   "metadata": {},
   "outputs": [],
   "source": []
  }
 ],
 "metadata": {
  "kernelspec": {
   "display_name": "Python 3 (ipykernel)",
   "language": "python",
   "name": "python3"
  },
  "language_info": {
   "codemirror_mode": {
    "name": "ipython",
    "version": 3
   },
   "file_extension": ".py",
   "mimetype": "text/x-python",
   "name": "python",
   "nbconvert_exporter": "python",
   "pygments_lexer": "ipython3",
   "version": "3.12.2"
  }
 },
 "nbformat": 4,
 "nbformat_minor": 5
}
